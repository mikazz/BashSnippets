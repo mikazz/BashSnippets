{
  "nbformat": 4,
  "nbformat_minor": 0,
  "metadata": {
    "colab": {
      "name": "SQLITE3_EXAMPLE.ipynb",
      "version": "0.3.2",
      "provenance": [],
      "include_colab_link": true
    },
    "kernelspec": {
      "name": "python3",
      "display_name": "Python 3"
    }
  },
  "cells": [
    {
      "cell_type": "markdown",
      "metadata": {
        "id": "view-in-github",
        "colab_type": "text"
      },
      "source": [
        "<a href=\"https://colab.research.google.com/github/mikazz/BashSnippets/blob/master/SQLITE3_EXAMPLE.ipynb\" target=\"_parent\"><img src=\"https://colab.research.google.com/assets/colab-badge.svg\" alt=\"Open In Colab\"/></a>"
      ]
    },
    {
      "cell_type": "code",
      "metadata": {
        "id": "QsMHkzq8NVPc",
        "colab_type": "code",
        "colab": {}
      },
      "source": [
        "import sqlite3\n",
        "\n",
        "\n",
        "SQL_CREATE_TABLE = \"\"\"\n",
        "    CREATE TABLE IF NOT EXISTS astronauts (\n",
        "        id INTEGER PRIMARY KEY AUTOINCREMENT,\n",
        "        pesel INTEGER UNIQUE,\n",
        "        firstname TEXT,\n",
        "        lastname TEXT)\"\"\"\n",
        "\n",
        "SQL_INSERT = 'INSERT INTO astronauts VALUES (NULL, :pesel, :firstname, :lastname)'\n",
        "SQL_SELECT = 'SELECT * from astronauts'\n",
        "\n",
        "\n",
        "astronauts = [\n",
        "    {'pesel': '61041212345', 'firstname': 'José', 'lastname': 'Jiménez'},\n",
        "    {'pesel': '61041212346', 'firstname': 'Jan', 'lastname': 'Twardowski'},\n",
        "    {'pesel': '61041212347', 'firstname': 'Melissa', 'lastname': 'Lewis'},\n",
        "    {'pesel': '61041212348', 'firstname': 'Alex', 'lastname': 'Vogel'},\n",
        "    {'pesel': '61041212349', 'firstname': 'Ryan', 'lastname': 'Stone'},\n",
        "]\n",
        "\n",
        "\n",
        "with sqlite3.connect(':memory:') as db:\n",
        "    db.execute(SQL_CREATE_TABLE)\n",
        "    db.executemany(SQL_INSERT, astronauts)\n",
        "\n",
        "    for row in db.execute(SQL_SELECT):\n",
        "        print(row)"
      ],
      "execution_count": 0,
      "outputs": []
    },
    {
      "cell_type": "markdown",
      "metadata": {
        "id": "0p7o5B9yYE5H",
        "colab_type": "text"
      },
      "source": [
        "# Connection to in-memory database"
      ]
    },
    {
      "cell_type": "code",
      "metadata": {
        "id": "ZMK89BmAYHot",
        "colab_type": "code",
        "colab": {}
      },
      "source": [
        "import sqlite3\n",
        "\n",
        "with sqlite3.connect(':memory:') as db:\n",
        "    db.execute('SELECT * FROM users')"
      ],
      "execution_count": 0,
      "outputs": []
    },
    {
      "cell_type": "markdown",
      "metadata": {
        "id": "QMcwYTTQYRSn",
        "colab_type": "text"
      },
      "source": [
        "# Connection to database file"
      ]
    },
    {
      "cell_type": "code",
      "metadata": {
        "id": "iqX_f_knZ7i2",
        "colab_type": "code",
        "colab": {
          "base_uri": "https://localhost:8080/",
          "height": 244
        },
        "outputId": "68927a5a-8baf-40e1-b7ac-619f17bfa7c3"
      },
      "source": [
        "\"\"\"/*\n",
        "Ta wersja pozwala na pokazanie różnicy pomiędzy pracownikami zarabiającymi najmniej w swoich departamentach i tymi,\n",
        "którzy zarabiaja tyle, ile wynoszą najniższe płace w departamentach. Można też pokazać LEFT, RIGHT i FULL JOIN na\n",
        "pracownikach i departamentach\n",
        "*/\n",
        "\"\"\"\n",
        "\n",
        "DATABASE=\"\"\"\\\n",
        "DROP TABLE IF EXISTS EMP;\n",
        "DROP TABLE IF EXISTS DEPT;\n",
        "DROP TABLE IF EXISTS SALGRADE;\n",
        "\n",
        "CREATE TABLE EMP\n",
        "       (EMPNO INT NOT NULL,\n",
        "        ENAME VARCHAR(10),\n",
        "        JOB VARCHAR(9),\n",
        "        MGR INT,\n",
        "        HIREDATE DATETIME,\n",
        "        SAL INT,\n",
        "        COMM INT,\n",
        "        DEPTNO INT);\n",
        "\n",
        "INSERT INTO EMP VALUES\n",
        "        (7369, 'SMITH',  'CLERK',     7902,\n",
        "        CONVERT(DATETIME,'17-DEC-1980'),  800, NULL, NULL);\n",
        "INSERT INTO EMP VALUES\n",
        "        (7499, 'ALLEN',  'SALESMAN',  7698,\n",
        "        CONVERT(DATETIME,'20-FEB-1981'), 1600,  300, 30);\n",
        "INSERT INTO EMP VALUES\n",
        "        (7521, 'WARD',   'SALESMAN',  7698,\n",
        "        CONVERT(DATETIME,'22-FEB-1981'), 1250,  500, 30);\n",
        "INSERT INTO EMP VALUES\n",
        "        (7566, 'JONES',  'MANAGER',   7839,\n",
        "        CONVERT(DATETIME,'2-APR-1981'),  2975, NULL, 20);\n",
        "INSERT INTO EMP VALUES\n",
        "        (7654, 'MARTIN', 'SALESMAN',  7698,\n",
        "        CONVERT(DATETIME,'28-SEP-1981'), 1250, 1400, 30);\n",
        "INSERT INTO EMP VALUES\n",
        "        (7698, 'BLAKE',  'MANAGER',   7839,\n",
        "        CONVERT(DATETIME,'1-MAY-1981'),  2850, NULL, 30);\n",
        "INSERT INTO EMP VALUES\n",
        "        (7782, 'CLARK',  'MANAGER',   7839,\n",
        "        CONVERT(DATETIME,'9-JUN-1981'),  2450, NULL, 10);\n",
        "INSERT INTO EMP VALUES\n",
        "        (7788, 'SCOTT',  'ANALYST',   7566,\n",
        "        CONVERT(DATETIME,'09-DEC-1982'), 3000, NULL, 20);\n",
        "INSERT INTO EMP VALUES\n",
        "        (7839, 'KING',   'PRESIDENT', NULL,\n",
        "        CONVERT(DATETIME,'17-NOV-1981'), 5000, NULL, 10);\n",
        "INSERT INTO EMP VALUES\n",
        "        (7844, 'TURNER', 'SALESMAN',  7698,\n",
        "        CONVERT(DATETIME,'8-SEP-1981'),  1100,    0, 30);\n",
        "INSERT INTO EMP VALUES\n",
        "        (7876, 'ADAMS',  'CLERK',     7788,\n",
        "        CONVERT(DATETIME,'12-JAN-1983'), 1100, NULL, 20);\n",
        "INSERT INTO EMP VALUES\n",
        "        (7900, 'JAMES',  'CLERK',     7698,\n",
        "        CONVERT(DATETIME,'3-DEC-1981'),   950, NULL, 30);\n",
        "INSERT INTO EMP VALUES\n",
        "        (7902, 'FORD',   'ANALYST',   7566,\n",
        "        CONVERT(DATETIME,'3-DEC-1981'),  3000, NULL, 20);\n",
        "INSERT INTO EMP VALUES\n",
        "        (7934, 'MILLER', 'CLERK',     7782,\n",
        "        CONVERT(DATETIME,'23-JAN-1982'), 1300, NULL, 10);\n",
        "\n",
        "CREATE TABLE DEPT\n",
        "       (DEPTNO INT,\n",
        "        DNAME VARCHAR(14),\n",
        "        LOC VARCHAR(13) );\n",
        "\n",
        "INSERT INTO DEPT VALUES (10, 'ACCOUNTING', 'NEW YORK');\n",
        "INSERT INTO DEPT VALUES (20, 'RESEARCH',   'DALLAS');\n",
        "INSERT INTO DEPT VALUES (30, 'SALES',      'CHICAGO');\n",
        "INSERT INTO DEPT VALUES (40, 'OPERATIONS', 'BOSTON');\n",
        "\n",
        "CREATE TABLE SALGRADE\n",
        "        (GRADE INT,\n",
        "         LOSAL INT,\n",
        "         HISAL INT);\n",
        "\n",
        "INSERT INTO SALGRADE VALUES (1,  700, 1200);\n",
        "INSERT INTO SALGRADE VALUES (2, 1201, 1400);\n",
        "INSERT INTO SALGRADE VALUES (3, 1401, 2000);\n",
        "INSERT INTO SALGRADE VALUES (4, 2001, 3000);\n",
        "INSERT INTO SALGRADE VALUES (5, 3001, 9999);\n",
        "\"\"\"\n",
        "\n",
        "import sqlite3\n",
        "\n",
        "conn = sqlite3.connect('database.sqlite3')\n",
        "\n",
        "c = conn.cursor()\n",
        "c.executescript(DATABASE)\n",
        "conn.commit()\n",
        "c.close()\n",
        "conn.close()\n"
      ],
      "execution_count": 8,
      "outputs": [
        {
          "output_type": "error",
          "ename": "OperationalError",
          "evalue": "ignored",
          "traceback": [
            "\u001b[0;31m---------------------------------------------------------------------------\u001b[0m",
            "\u001b[0;31mOperationalError\u001b[0m                          Traceback (most recent call last)",
            "\u001b[0;32m<ipython-input-8-890a57ff9d63>\u001b[0m in \u001b[0;36m<module>\u001b[0;34m()\u001b[0m\n\u001b[1;32m     90\u001b[0m \u001b[0;34m\u001b[0m\u001b[0m\n\u001b[1;32m     91\u001b[0m \u001b[0mc\u001b[0m \u001b[0;34m=\u001b[0m \u001b[0mconn\u001b[0m\u001b[0;34m.\u001b[0m\u001b[0mcursor\u001b[0m\u001b[0;34m(\u001b[0m\u001b[0;34m)\u001b[0m\u001b[0;34m\u001b[0m\u001b[0;34m\u001b[0m\u001b[0m\n\u001b[0;32m---> 92\u001b[0;31m \u001b[0mc\u001b[0m\u001b[0;34m.\u001b[0m\u001b[0mexecutescript\u001b[0m\u001b[0;34m(\u001b[0m\u001b[0mDATABASE\u001b[0m\u001b[0;34m)\u001b[0m\u001b[0;34m\u001b[0m\u001b[0;34m\u001b[0m\u001b[0m\n\u001b[0m\u001b[1;32m     93\u001b[0m \u001b[0mconn\u001b[0m\u001b[0;34m.\u001b[0m\u001b[0mcommit\u001b[0m\u001b[0;34m(\u001b[0m\u001b[0;34m)\u001b[0m\u001b[0;34m\u001b[0m\u001b[0;34m\u001b[0m\u001b[0m\n\u001b[1;32m     94\u001b[0m \u001b[0mc\u001b[0m\u001b[0;34m.\u001b[0m\u001b[0mclose\u001b[0m\u001b[0;34m(\u001b[0m\u001b[0;34m)\u001b[0m\u001b[0;34m\u001b[0m\u001b[0;34m\u001b[0m\u001b[0m\n",
            "\u001b[0;31mOperationalError\u001b[0m: no such column: DATETIME"
          ]
        }
      ]
    },
    {
      "cell_type": "code",
      "metadata": {
        "id": "BPHhaOJwYU9D",
        "colab_type": "code",
        "colab": {}
      },
      "source": [
        "import sqlite3\n",
        "\n",
        "with sqlite3.connect('database.sqlite3') as db:\n",
        "    db.execute('SELECT * FROM Emp')"
      ],
      "execution_count": 0,
      "outputs": []
    }
  ]
}